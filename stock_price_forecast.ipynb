{
  "nbformat": 4,
  "nbformat_minor": 0,
  "metadata": {
    "colab": {
      "name": "stock_price_forecast.ipynb",
      "provenance": []
    },
    "kernelspec": {
      "name": "python3",
      "display_name": "Python 3"
    },
    "language_info": {
      "name": "python"
    }
  },
  "cells": [
    {
      "cell_type": "code",
      "metadata": {
        "id": "PXP5Hnav42JX"
      },
      "source": [
        "## Data Collection \n",
        "import pandas_datareader as pdr"
      ],
      "execution_count": 1,
      "outputs": []
    },
    {
      "cell_type": "code",
      "metadata": {
        "id": "KSL9XSK06-z7"
      },
      "source": [
        "df = pdr.get_data_tiingo('AAPL',api_key='b44598a51366407c2528d359863ba91eb75ed4e6')"
      ],
      "execution_count": 4,
      "outputs": []
    },
    {
      "cell_type": "code",
      "metadata": {
        "id": "WNAJd9R27Mvo"
      },
      "source": [
        "df.to_csv('AAPL.csv')"
      ],
      "execution_count": 5,
      "outputs": []
    },
    {
      "cell_type": "code",
      "metadata": {
        "id": "NkIkydrD83Iy"
      },
      "source": [
        "import pandas as pd \n",
        "df = pd.read_csv('AAPL.csv')"
      ],
      "execution_count": 6,
      "outputs": []
    },
    {
      "cell_type": "code",
      "metadata": {
        "colab": {
          "base_uri": "https://localhost:8080/",
          "height": 309
        },
        "id": "7tK6f7Vn8_oW",
        "outputId": "8d6d6c6c-0ee7-45ca-b0e3-341bf3d373e4"
      },
      "source": [
        "df.head()"
      ],
      "execution_count": 7,
      "outputs": [
        {
          "output_type": "execute_result",
          "data": {
            "text/html": [
              "<div>\n",
              "<style scoped>\n",
              "    .dataframe tbody tr th:only-of-type {\n",
              "        vertical-align: middle;\n",
              "    }\n",
              "\n",
              "    .dataframe tbody tr th {\n",
              "        vertical-align: top;\n",
              "    }\n",
              "\n",
              "    .dataframe thead th {\n",
              "        text-align: right;\n",
              "    }\n",
              "</style>\n",
              "<table border=\"1\" class=\"dataframe\">\n",
              "  <thead>\n",
              "    <tr style=\"text-align: right;\">\n",
              "      <th></th>\n",
              "      <th>symbol</th>\n",
              "      <th>date</th>\n",
              "      <th>close</th>\n",
              "      <th>high</th>\n",
              "      <th>low</th>\n",
              "      <th>open</th>\n",
              "      <th>volume</th>\n",
              "      <th>adjClose</th>\n",
              "      <th>adjHigh</th>\n",
              "      <th>adjLow</th>\n",
              "      <th>adjOpen</th>\n",
              "      <th>adjVolume</th>\n",
              "      <th>divCash</th>\n",
              "      <th>splitFactor</th>\n",
              "    </tr>\n",
              "  </thead>\n",
              "  <tbody>\n",
              "    <tr>\n",
              "      <th>0</th>\n",
              "      <td>AAPL</td>\n",
              "      <td>2016-06-07 00:00:00+00:00</td>\n",
              "      <td>99.03</td>\n",
              "      <td>99.8700</td>\n",
              "      <td>98.96</td>\n",
              "      <td>99.25</td>\n",
              "      <td>22409450</td>\n",
              "      <td>23.124837</td>\n",
              "      <td>23.320988</td>\n",
              "      <td>23.108491</td>\n",
              "      <td>23.176210</td>\n",
              "      <td>89637800</td>\n",
              "      <td>0.0</td>\n",
              "      <td>1.0</td>\n",
              "    </tr>\n",
              "    <tr>\n",
              "      <th>1</th>\n",
              "      <td>AAPL</td>\n",
              "      <td>2016-06-08 00:00:00+00:00</td>\n",
              "      <td>98.94</td>\n",
              "      <td>99.5600</td>\n",
              "      <td>98.68</td>\n",
              "      <td>99.02</td>\n",
              "      <td>20848131</td>\n",
              "      <td>23.103821</td>\n",
              "      <td>23.248599</td>\n",
              "      <td>23.043107</td>\n",
              "      <td>23.122502</td>\n",
              "      <td>83392524</td>\n",
              "      <td>0.0</td>\n",
              "      <td>1.0</td>\n",
              "    </tr>\n",
              "    <tr>\n",
              "      <th>2</th>\n",
              "      <td>AAPL</td>\n",
              "      <td>2016-06-09 00:00:00+00:00</td>\n",
              "      <td>99.65</td>\n",
              "      <td>99.9900</td>\n",
              "      <td>98.46</td>\n",
              "      <td>98.50</td>\n",
              "      <td>26601354</td>\n",
              "      <td>23.269615</td>\n",
              "      <td>23.349010</td>\n",
              "      <td>22.991734</td>\n",
              "      <td>23.001075</td>\n",
              "      <td>106405416</td>\n",
              "      <td>0.0</td>\n",
              "      <td>1.0</td>\n",
              "    </tr>\n",
              "    <tr>\n",
              "      <th>3</th>\n",
              "      <td>AAPL</td>\n",
              "      <td>2016-06-10 00:00:00+00:00</td>\n",
              "      <td>98.83</td>\n",
              "      <td>99.3457</td>\n",
              "      <td>98.48</td>\n",
              "      <td>98.53</td>\n",
              "      <td>31712936</td>\n",
              "      <td>23.078134</td>\n",
              "      <td>23.198557</td>\n",
              "      <td>22.996404</td>\n",
              "      <td>23.008080</td>\n",
              "      <td>126851744</td>\n",
              "      <td>0.0</td>\n",
              "      <td>1.0</td>\n",
              "    </tr>\n",
              "    <tr>\n",
              "      <th>4</th>\n",
              "      <td>AAPL</td>\n",
              "      <td>2016-06-13 00:00:00+00:00</td>\n",
              "      <td>97.34</td>\n",
              "      <td>99.1200</td>\n",
              "      <td>97.10</td>\n",
              "      <td>98.69</td>\n",
              "      <td>38020494</td>\n",
              "      <td>22.730199</td>\n",
              "      <td>23.145853</td>\n",
              "      <td>22.674156</td>\n",
              "      <td>23.045442</td>\n",
              "      <td>152081976</td>\n",
              "      <td>0.0</td>\n",
              "      <td>1.0</td>\n",
              "    </tr>\n",
              "  </tbody>\n",
              "</table>\n",
              "</div>"
            ],
            "text/plain": [
              "  symbol                       date  close  ...  adjVolume  divCash  splitFactor\n",
              "0   AAPL  2016-06-07 00:00:00+00:00  99.03  ...   89637800      0.0          1.0\n",
              "1   AAPL  2016-06-08 00:00:00+00:00  98.94  ...   83392524      0.0          1.0\n",
              "2   AAPL  2016-06-09 00:00:00+00:00  99.65  ...  106405416      0.0          1.0\n",
              "3   AAPL  2016-06-10 00:00:00+00:00  98.83  ...  126851744      0.0          1.0\n",
              "4   AAPL  2016-06-13 00:00:00+00:00  97.34  ...  152081976      0.0          1.0\n",
              "\n",
              "[5 rows x 14 columns]"
            ]
          },
          "metadata": {
            "tags": []
          },
          "execution_count": 7
        }
      ]
    },
    {
      "cell_type": "code",
      "metadata": {
        "id": "w28H5VP69BCs"
      },
      "source": [
        "df2 = df.reset_index()['close']"
      ],
      "execution_count": 8,
      "outputs": []
    },
    {
      "cell_type": "code",
      "metadata": {
        "colab": {
          "base_uri": "https://localhost:8080/"
        },
        "id": "detCPR_q9UKz",
        "outputId": "fe353b1c-bb29-40a9-fdd7-88edb481868b"
      },
      "source": [
        "df2.head()"
      ],
      "execution_count": 9,
      "outputs": [
        {
          "output_type": "execute_result",
          "data": {
            "text/plain": [
              "0    99.03\n",
              "1    98.94\n",
              "2    99.65\n",
              "3    98.83\n",
              "4    97.34\n",
              "Name: close, dtype: float64"
            ]
          },
          "metadata": {
            "tags": []
          },
          "execution_count": 9
        }
      ]
    },
    {
      "cell_type": "code",
      "metadata": {
        "colab": {
          "base_uri": "https://localhost:8080/",
          "height": 283
        },
        "id": "UG2PjFlm9VeO",
        "outputId": "674aeebc-8cad-4331-aa9b-30d654795c55"
      },
      "source": [
        "import matplotlib.pyplot as plt\n",
        "plt.plot(df2)"
      ],
      "execution_count": 10,
      "outputs": [
        {
          "output_type": "execute_result",
          "data": {
            "text/plain": [
              "[<matplotlib.lines.Line2D at 0x7fbe755ccd50>]"
            ]
          },
          "metadata": {
            "tags": []
          },
          "execution_count": 10
        },
        {
          "output_type": "display_data",
          "data": {
            "image/png": "[encoded data removed]",
            "text/plain": [
              "<Figure size 432x288 with 1 Axes>"
            ]
          },
          "metadata": {
            "tags": [],
            "needs_background": "light"
          }
        }
      ]
    },
    {
      "cell_type": "code",
      "metadata": {
        "id": "LvlFWusW9pBg"
      },
      "source": [
        "### LSTM is sensitive to the scale of the data, hence we need to put a min max scale \n",
        "import numpy as np\n",
        "from sklearn.preprocessing import MinMaxScaler\n",
        "scaler = MinMaxScaler(feature_range = (0,1))\n",
        "df1 =scaler.fit_transform(np.array(df2).reshape(-1,1))"
      ],
      "execution_count": 12,
      "outputs": []
    },
    {
      "cell_type": "code",
      "metadata": {
        "colab": {
          "base_uri": "https://localhost:8080/"
        },
        "id": "_4CcL3bP-MGO",
        "outputId": "11396c07-74b4-422c-fe84-8d0d728ea5b7"
      },
      "source": [
        "df1"
      ],
      "execution_count": 13,
      "outputs": [
        {
          "output_type": "execute_result",
          "data": {
            "text/plain": [
              "array([[0.01688202],\n",
              "       [0.01666465],\n",
              "       [0.01837942],\n",
              "       ...,\n",
              "       [0.07974882],\n",
              "       [0.07607777],\n",
              "       [0.08175341]])"
            ]
          },
          "metadata": {
            "tags": []
          },
          "execution_count": 13
        }
      ]
    },
    {
      "cell_type": "code",
      "metadata": {
        "id": "OYy8XlzM-dNm"
      },
      "source": [
        "# splitting the dataset into train and test dataset \n",
        "training_size = int(len(df1)*0.65)\n",
        "test_size = len(df1)-training_size\n",
        "train_data, test_data = df1[0:training_size,:], df1[training_size:len(df1),:]"
      ],
      "execution_count": 14,
      "outputs": []
    },
    {
      "cell_type": "code",
      "metadata": {
        "id": "pF0FdD6sAMcY"
      },
      "source": [
        "# We will use timesteps for timeseries data. It helps modify the data in a manner that \n",
        "# it converts some values as independent and some as dependent. \n",
        "# This is basically creating a stacked LSTM model\n",
        "import numpy as np\n",
        "def create_dataset(dataset, time_step =1):\n",
        "  dataX,dataY = [],[]\n",
        "  for i in range(len(dataset)-time_step-1):\n",
        "    a = dataset[i:(i+time_step),0]   ### i =0, 0,1,2,3\n",
        "    dataX.append(a)\n",
        "    dataY.append(dataset[i+time_step,0])\n",
        "  return np.array(dataX),np.array(dataY)"
      ],
      "execution_count": 17,
      "outputs": []
    },
    {
      "cell_type": "code",
      "metadata": {
        "id": "ghQAzQWuCtXE"
      },
      "source": [
        "time_step = 100\n",
        "X_train,y_train = create_dataset(train_data,time_step)\n",
        "X_test, y_test = create_dataset(test_data,time_step)"
      ],
      "execution_count": 18,
      "outputs": []
    },
    {
      "cell_type": "code",
      "metadata": {
        "id": "jbcSgnmWDMOA"
      },
      "source": [
        "# We need to reshape the data for LSTM to be three dimensional\n",
        "# ['samples','time_steps','features']\n",
        "X_train = X_train.reshape(X_train.shape[0],X_train.shape[1],1)\n",
        "X_test = X_test.reshape(X_test.shape[0],X_test.shape[1],1)"
      ],
      "execution_count": 19,
      "outputs": []
    },
    {
      "cell_type": "code",
      "metadata": {
        "id": "Z_jSrUjSEaGT"
      },
      "source": [
        "# Importing important libraries \n",
        "from tensorflow.keras.models import Sequential\n",
        "from tensorflow.keras.layers import Dense\n",
        "from tensorflow.keras.layers import LSTM"
      ],
      "execution_count": 21,
      "outputs": []
    },
    {
      "cell_type": "code",
      "metadata": {
        "id": "KjJIN5jWE2-p"
      },
      "source": [
        "model = Sequential()\n",
        "model.add(LSTM(50,return_sequences=True,input_shape = (100,1)))\n",
        "model.add(LSTM(50,return_sequences=True))\n",
        "model.add(LSTM(50))\n",
        "model.add(Dense(1))\n",
        "model.compile(loss = 'mean_squared_error', optimizer = 'adam')"
      ],
      "execution_count": 22,
      "outputs": []
    },
    {
      "cell_type": "code",
      "metadata": {
        "colab": {
          "base_uri": "https://localhost:8080/"
        },
        "id": "HCQVlm-uF_Hu",
        "outputId": "f19d407c-bddf-45cc-e51c-8b00dd22483b"
      },
      "source": [
        "model.summary()"
      ],
      "execution_count": 23,
      "outputs": [
        {
          "output_type": "stream",
          "text": [
            "Model: \"sequential\"\n",
            "_________________________________________________________________\n",
            "Layer (type)                 Output Shape              Param #   \n",
            "=================================================================\n",
            "lstm (LSTM)                  (None, 100, 50)           10400     \n",
            "_________________________________________________________________\n",
            "lstm_1 (LSTM)                (None, 100, 50)           20200     \n",
            "_________________________________________________________________\n",
            "lstm_2 (LSTM)                (None, 50)                20200     \n",
            "_________________________________________________________________\n",
            "dense (Dense)                (None, 1)                 51        \n",
            "=================================================================\n",
            "Total params: 50,851\n",
            "Trainable params: 50,851\n",
            "Non-trainable params: 0\n",
            "_________________________________________________________________\n"
          ],
          "name": "stdout"
        }
      ]
    },
    {
      "cell_type": "code",
      "metadata": {
        "colab": {
          "base_uri": "https://localhost:8080/"
        },
        "id": "9ClZc151GCL1",
        "outputId": "ef20fe2a-3960-41f8-e519-7696fed46156"
      },
      "source": [
        "model.fit(X_train,y_train,validation_data=(X_test,y_test),epochs = 100, batch_size = 64, verbose = 1)"
      ],
      "execution_count": 25,
      "outputs": [
        {
          "output_type": "stream",
          "text": [
            "Epoch 1/100\n",
            "12/12 [==============================] - 7s 259ms/step - loss: 0.0100 - val_loss: 0.0471\n",
            "Epoch 2/100\n",
            "12/12 [==============================] - 2s 169ms/step - loss: 0.0025 - val_loss: 0.0264\n",
            "Epoch 3/100\n",
            "12/12 [==============================] - 2s 169ms/step - loss: 0.0011 - val_loss: 0.0224\n",
            "Epoch 4/100\n",
            "12/12 [==============================] - 2s 168ms/step - loss: 6.1494e-04 - val_loss: 0.0209\n",
            "Epoch 5/100\n",
            "12/12 [==============================] - 2s 169ms/step - loss: 4.4563e-04 - val_loss: 0.0217\n",
            "Epoch 6/100\n",
            "12/12 [==============================] - 2s 170ms/step - loss: 4.4416e-04 - val_loss: 0.0208\n",
            "Epoch 7/100\n",
            "12/12 [==============================] - 2s 170ms/step - loss: 4.3124e-04 - val_loss: 0.0197\n",
            "Epoch 8/100\n",
            "12/12 [==============================] - 2s 173ms/step - loss: 4.0818e-04 - val_loss: 0.0194\n",
            "Epoch 9/100\n",
            "12/12 [==============================] - 2s 169ms/step - loss: 3.9174e-04 - val_loss: 0.0189\n",
            "Epoch 10/100\n",
            "12/12 [==============================] - 2s 169ms/step - loss: 3.8697e-04 - val_loss: 0.0189\n",
            "Epoch 11/100\n",
            "12/12 [==============================] - 2s 170ms/step - loss: 3.7525e-04 - val_loss: 0.0180\n",
            "Epoch 12/100\n",
            "12/12 [==============================] - 2s 165ms/step - loss: 3.6351e-04 - val_loss: 0.0177\n",
            "Epoch 13/100\n",
            "12/12 [==============================] - 2s 167ms/step - loss: 3.5994e-04 - val_loss: 0.0170\n",
            "Epoch 14/100\n",
            "12/12 [==============================] - 2s 166ms/step - loss: 3.4885e-04 - val_loss: 0.0165\n",
            "Epoch 15/100\n",
            "12/12 [==============================] - 2s 167ms/step - loss: 3.5194e-04 - val_loss: 0.0162\n",
            "Epoch 16/100\n",
            "12/12 [==============================] - 2s 168ms/step - loss: 3.8405e-04 - val_loss: 0.0157\n",
            "Epoch 17/100\n",
            "12/12 [==============================] - 2s 168ms/step - loss: 3.3732e-04 - val_loss: 0.0152\n",
            "Epoch 18/100\n",
            "12/12 [==============================] - 2s 166ms/step - loss: 3.0633e-04 - val_loss: 0.0147\n",
            "Epoch 19/100\n",
            "12/12 [==============================] - 2s 167ms/step - loss: 3.1894e-04 - val_loss: 0.0143\n",
            "Epoch 20/100\n",
            "12/12 [==============================] - 2s 167ms/step - loss: 2.8345e-04 - val_loss: 0.0140\n",
            "Epoch 21/100\n",
            "12/12 [==============================] - 2s 171ms/step - loss: 2.9715e-04 - val_loss: 0.0142\n",
            "Epoch 22/100\n",
            "12/12 [==============================] - 2s 171ms/step - loss: 2.8109e-04 - val_loss: 0.0137\n",
            "Epoch 23/100\n",
            "12/12 [==============================] - 2s 167ms/step - loss: 2.6876e-04 - val_loss: 0.0142\n",
            "Epoch 24/100\n",
            "12/12 [==============================] - 2s 167ms/step - loss: 2.4394e-04 - val_loss: 0.0140\n",
            "Epoch 25/100\n",
            "12/12 [==============================] - 2s 169ms/step - loss: 2.3189e-04 - val_loss: 0.0143\n",
            "Epoch 26/100\n",
            "12/12 [==============================] - 2s 170ms/step - loss: 2.2928e-04 - val_loss: 0.0141\n",
            "Epoch 27/100\n",
            "12/12 [==============================] - 2s 166ms/step - loss: 2.3323e-04 - val_loss: 0.0142\n",
            "Epoch 28/100\n",
            "12/12 [==============================] - 2s 165ms/step - loss: 2.3000e-04 - val_loss: 0.0154\n",
            "Epoch 29/100\n",
            "12/12 [==============================] - 2s 166ms/step - loss: 2.4303e-04 - val_loss: 0.0133\n",
            "Epoch 30/100\n",
            "12/12 [==============================] - 2s 167ms/step - loss: 2.3590e-04 - val_loss: 0.0146\n",
            "Epoch 31/100\n",
            "12/12 [==============================] - 2s 168ms/step - loss: 2.2914e-04 - val_loss: 0.0135\n",
            "Epoch 32/100\n",
            "12/12 [==============================] - 2s 165ms/step - loss: 2.2220e-04 - val_loss: 0.0140\n",
            "Epoch 33/100\n",
            "12/12 [==============================] - 2s 165ms/step - loss: 2.0824e-04 - val_loss: 0.0132\n",
            "Epoch 34/100\n",
            "12/12 [==============================] - 2s 165ms/step - loss: 2.3973e-04 - val_loss: 0.0137\n",
            "Epoch 35/100\n",
            "12/12 [==============================] - 2s 165ms/step - loss: 2.0852e-04 - val_loss: 0.0133\n",
            "Epoch 36/100\n",
            "12/12 [==============================] - 2s 168ms/step - loss: 2.2019e-04 - val_loss: 0.0130\n",
            "Epoch 37/100\n",
            "12/12 [==============================] - 2s 166ms/step - loss: 2.4574e-04 - val_loss: 0.0131\n",
            "Epoch 38/100\n",
            "12/12 [==============================] - 2s 166ms/step - loss: 2.2380e-04 - val_loss: 0.0126\n",
            "Epoch 39/100\n",
            "12/12 [==============================] - 2s 167ms/step - loss: 2.2025e-04 - val_loss: 0.0135\n",
            "Epoch 40/100\n",
            "12/12 [==============================] - 2s 169ms/step - loss: 2.0904e-04 - val_loss: 0.0127\n",
            "Epoch 41/100\n",
            "12/12 [==============================] - 2s 168ms/step - loss: 1.8975e-04 - val_loss: 0.0134\n",
            "Epoch 42/100\n",
            "12/12 [==============================] - 2s 170ms/step - loss: 2.1570e-04 - val_loss: 0.0124\n",
            "Epoch 43/100\n",
            "12/12 [==============================] - 2s 167ms/step - loss: 2.0424e-04 - val_loss: 0.0131\n",
            "Epoch 44/100\n",
            "12/12 [==============================] - 2s 174ms/step - loss: 1.9567e-04 - val_loss: 0.0128\n",
            "Epoch 45/100\n",
            "12/12 [==============================] - 2s 173ms/step - loss: 1.9889e-04 - val_loss: 0.0124\n",
            "Epoch 46/100\n",
            "12/12 [==============================] - 2s 171ms/step - loss: 1.9705e-04 - val_loss: 0.0132\n",
            "Epoch 47/100\n",
            "12/12 [==============================] - 2s 170ms/step - loss: 2.0462e-04 - val_loss: 0.0123\n",
            "Epoch 48/100\n",
            "12/12 [==============================] - 2s 167ms/step - loss: 1.7911e-04 - val_loss: 0.0126\n",
            "Epoch 49/100\n",
            "12/12 [==============================] - 2s 170ms/step - loss: 1.8065e-04 - val_loss: 0.0119\n",
            "Epoch 50/100\n",
            "12/12 [==============================] - 2s 167ms/step - loss: 1.8063e-04 - val_loss: 0.0121\n",
            "Epoch 51/100\n",
            "12/12 [==============================] - 2s 167ms/step - loss: 1.7756e-04 - val_loss: 0.0120\n",
            "Epoch 52/100\n",
            "12/12 [==============================] - 2s 169ms/step - loss: 1.7606e-04 - val_loss: 0.0119\n",
            "Epoch 53/100\n",
            "12/12 [==============================] - 2s 167ms/step - loss: 1.7046e-04 - val_loss: 0.0117\n",
            "Epoch 54/100\n",
            "12/12 [==============================] - 2s 166ms/step - loss: 1.7475e-04 - val_loss: 0.0131\n",
            "Epoch 55/100\n",
            "12/12 [==============================] - 2s 167ms/step - loss: 1.7434e-04 - val_loss: 0.0119\n",
            "Epoch 56/100\n",
            "12/12 [==============================] - 2s 168ms/step - loss: 1.9496e-04 - val_loss: 0.0112\n",
            "Epoch 57/100\n",
            "12/12 [==============================] - 2s 167ms/step - loss: 2.4429e-04 - val_loss: 0.0125\n",
            "Epoch 58/100\n",
            "12/12 [==============================] - 2s 168ms/step - loss: 1.7922e-04 - val_loss: 0.0120\n",
            "Epoch 59/100\n",
            "12/12 [==============================] - 2s 170ms/step - loss: 1.8187e-04 - val_loss: 0.0109\n",
            "Epoch 60/100\n",
            "12/12 [==============================] - 2s 169ms/step - loss: 1.6713e-04 - val_loss: 0.0113\n",
            "Epoch 61/100\n",
            "12/12 [==============================] - 2s 167ms/step - loss: 1.5498e-04 - val_loss: 0.0118\n",
            "Epoch 62/100\n",
            "12/12 [==============================] - 2s 174ms/step - loss: 1.5208e-04 - val_loss: 0.0135\n",
            "Epoch 63/100\n",
            "12/12 [==============================] - 2s 172ms/step - loss: 1.6659e-04 - val_loss: 0.0110\n",
            "Epoch 64/100\n",
            "12/12 [==============================] - 2s 170ms/step - loss: 1.5344e-04 - val_loss: 0.0133\n",
            "Epoch 65/100\n",
            "12/12 [==============================] - 2s 170ms/step - loss: 1.5863e-04 - val_loss: 0.0118\n",
            "Epoch 66/100\n",
            "12/12 [==============================] - 2s 170ms/step - loss: 1.5739e-04 - val_loss: 0.0101\n",
            "Epoch 67/100\n",
            "12/12 [==============================] - 2s 172ms/step - loss: 1.6883e-04 - val_loss: 0.0113\n",
            "Epoch 68/100\n",
            "12/12 [==============================] - 2s 172ms/step - loss: 1.5184e-04 - val_loss: 0.0108\n",
            "Epoch 69/100\n",
            "12/12 [==============================] - 2s 170ms/step - loss: 1.4345e-04 - val_loss: 0.0119\n",
            "Epoch 70/100\n",
            "12/12 [==============================] - 2s 171ms/step - loss: 1.4941e-04 - val_loss: 0.0107\n",
            "Epoch 71/100\n",
            "12/12 [==============================] - 2s 170ms/step - loss: 1.4663e-04 - val_loss: 0.0129\n",
            "Epoch 72/100\n",
            "12/12 [==============================] - 2s 171ms/step - loss: 1.5587e-04 - val_loss: 0.0095\n",
            "Epoch 73/100\n",
            "12/12 [==============================] - 2s 175ms/step - loss: 1.5250e-04 - val_loss: 0.0139\n",
            "Epoch 74/100\n",
            "12/12 [==============================] - 2s 171ms/step - loss: 1.9568e-04 - val_loss: 0.0097\n",
            "Epoch 75/100\n",
            "12/12 [==============================] - 2s 171ms/step - loss: 1.5735e-04 - val_loss: 0.0094\n",
            "Epoch 76/100\n",
            "12/12 [==============================] - 2s 171ms/step - loss: 1.4125e-04 - val_loss: 0.0094\n",
            "Epoch 77/100\n",
            "12/12 [==============================] - 2s 173ms/step - loss: 1.4448e-04 - val_loss: 0.0098\n",
            "Epoch 78/100\n",
            "12/12 [==============================] - 2s 171ms/step - loss: 1.3580e-04 - val_loss: 0.0092\n",
            "Epoch 79/100\n",
            "12/12 [==============================] - 2s 175ms/step - loss: 1.3354e-04 - val_loss: 0.0093\n",
            "Epoch 80/100\n",
            "12/12 [==============================] - 2s 172ms/step - loss: 1.3191e-04 - val_loss: 0.0099\n",
            "Epoch 81/100\n",
            "12/12 [==============================] - 2s 169ms/step - loss: 1.3313e-04 - val_loss: 0.0087\n",
            "Epoch 82/100\n",
            "12/12 [==============================] - 2s 169ms/step - loss: 1.3839e-04 - val_loss: 0.0092\n",
            "Epoch 83/100\n",
            "12/12 [==============================] - 2s 173ms/step - loss: 1.3006e-04 - val_loss: 0.0083\n",
            "Epoch 84/100\n",
            "12/12 [==============================] - 2s 169ms/step - loss: 1.3259e-04 - val_loss: 0.0089\n",
            "Epoch 85/100\n",
            "12/12 [==============================] - 2s 170ms/step - loss: 1.3104e-04 - val_loss: 0.0091\n",
            "Epoch 86/100\n",
            "12/12 [==============================] - 2s 167ms/step - loss: 1.5309e-04 - val_loss: 0.0110\n",
            "Epoch 87/100\n",
            "12/12 [==============================] - 2s 167ms/step - loss: 1.6812e-04 - val_loss: 0.0088\n",
            "Epoch 88/100\n",
            "12/12 [==============================] - 2s 166ms/step - loss: 1.3794e-04 - val_loss: 0.0092\n",
            "Epoch 89/100\n",
            "12/12 [==============================] - 2s 166ms/step - loss: 1.3471e-04 - val_loss: 0.0078\n",
            "Epoch 90/100\n",
            "12/12 [==============================] - 2s 168ms/step - loss: 1.3843e-04 - val_loss: 0.0079\n",
            "Epoch 91/100\n",
            "12/12 [==============================] - 2s 167ms/step - loss: 1.2699e-04 - val_loss: 0.0081\n",
            "Epoch 92/100\n",
            "12/12 [==============================] - 2s 167ms/step - loss: 1.2894e-04 - val_loss: 0.0082\n",
            "Epoch 93/100\n",
            "12/12 [==============================] - 2s 165ms/step - loss: 1.2647e-04 - val_loss: 0.0073\n",
            "Epoch 94/100\n",
            "12/12 [==============================] - 2s 169ms/step - loss: 1.5705e-04 - val_loss: 0.0093\n",
            "Epoch 95/100\n",
            "12/12 [==============================] - 2s 168ms/step - loss: 1.4106e-04 - val_loss: 0.0086\n",
            "Epoch 96/100\n",
            "12/12 [==============================] - 2s 173ms/step - loss: 1.1754e-04 - val_loss: 0.0087\n",
            "Epoch 97/100\n",
            "12/12 [==============================] - 2s 171ms/step - loss: 1.1413e-04 - val_loss: 0.0092\n",
            "Epoch 98/100\n",
            "12/12 [==============================] - 2s 169ms/step - loss: 1.1569e-04 - val_loss: 0.0080\n",
            "Epoch 99/100\n",
            "12/12 [==============================] - 2s 170ms/step - loss: 1.0877e-04 - val_loss: 0.0077\n",
            "Epoch 100/100\n",
            "12/12 [==============================] - 2s 168ms/step - loss: 1.0794e-04 - val_loss: 0.0079\n"
          ],
          "name": "stdout"
        },
        {
          "output_type": "execute_result",
          "data": {
            "text/plain": [
              "<tensorflow.python.keras.callbacks.History at 0x7fbe276db690>"
            ]
          },
          "metadata": {
            "tags": []
          },
          "execution_count": 25
        }
      ]
    },
    {
      "cell_type": "code",
      "metadata": {
        "id": "P4Ux4oxWGXJE"
      },
      "source": [
        "import tensorflow as tf\n",
        "train_predict = model.predict(X_train)\n",
        "test_predict = model.predict(X_test)\n",
        "train_predict = scaler.inverse_transform(train_predict)\n",
        "test_predict = scaler.inverse_transform(test_predict)"
      ],
      "execution_count": 27,
      "outputs": []
    },
    {
      "cell_type": "code",
      "metadata": {
        "id": "WSS7Wz0OJe4a"
      },
      "source": [
        "import math \n",
        "from sklearn.metrics import mean_squared_error"
      ],
      "execution_count": 28,
      "outputs": []
    },
    {
      "cell_type": "code",
      "metadata": {
        "colab": {
          "base_uri": "https://localhost:8080/"
        },
        "id": "1p4-FnFMJr2S",
        "outputId": "a65fbd01-0116-4a00-b60d-eba3bf4d6dec"
      },
      "source": [
        "math.sqrt(mean_squared_error(y_train,train_predict))\n",
        "math.sqrt(mean_squared_error(y_test,test_predict))"
      ],
      "execution_count": 30,
      "outputs": [
        {
          "output_type": "execute_result",
          "data": {
            "text/plain": [
              "226.48546071833243"
            ]
          },
          "metadata": {
            "tags": []
          },
          "execution_count": 30
        }
      ]
    },
    {
      "cell_type": "code",
      "metadata": {
        "colab": {
          "base_uri": "https://localhost:8080/",
          "height": 265
        },
        "id": "lcHfI89mKErR",
        "outputId": "e44a22bd-80b0-4626-a2ff-9ff263819de8"
      },
      "source": [
        "#Plotting\n",
        "# shift train predictions for plotting \n",
        "look_back = 100\n",
        "trainPredictPlot = np.empty_like(df1)\n",
        "trainPredictPlot[:,:] = np.nan\n",
        "trainPredictPlot[look_back:len(train_predict)+look_back,:] = train_predict\n",
        "\n",
        "#shift test predictions for plotting\n",
        "testPredictPlot = np.empty_like(df1)\n",
        "testPredictPlot[:,:] = np.nan\n",
        "testPredictPlot[len(train_predict)+look_back*2+1:len(df1)-1,:] = test_predict\n",
        "\n",
        "#Plotting \n",
        "plt.plot(scaler.inverse_transform(df1))\n",
        "plt.plot(trainPredictPlot)\n",
        "plt.plot(testPredictPlot)\n",
        "plt.show()"
      ],
      "execution_count": 33,
      "outputs": [
        {
          "output_type": "display_data",
          "data": {
            "image/png": "[encoded data removed]",
            "text/plain": [
              "<Figure size 432x288 with 1 Axes>"
            ]
          },
          "metadata": {
            "tags": [],
            "needs_background": "light"
          }
        }
      ]
    },
    {
      "cell_type": "code",
      "metadata": {
        "colab": {
          "base_uri": "https://localhost:8080/"
        },
        "id": "gPpTvqSJMIMw",
        "outputId": "67f0493c-d28a-4ca4-fe8a-3ecdbea4b166"
      },
      "source": [
        "x_input=test_data[341:].reshape(1,-1)\n",
        "x_input.shape\n",
        "\n",
        "temp_input=list(x_input)\n",
        "temp_input=temp_input[0].tolist()\n",
        "\n",
        "\n",
        "# demonstrate prediction for next 10 days\n",
        "from numpy import array\n",
        "\n",
        "lst_output=[]\n",
        "n_steps=100\n",
        "i=0\n",
        "while(i<30):\n",
        "    \n",
        "    if(len(temp_input)>100):\n",
        "        #print(temp_input)\n",
        "        x_input=np.array(temp_input[1:])\n",
        "        print(\"{} day input {}\".format(i,x_input))\n",
        "        x_input=x_input.reshape(1,-1)\n",
        "        x_input = x_input.reshape((1, n_steps, 1))\n",
        "        #print(x_input)\n",
        "        yhat = model.predict(x_input, verbose=0)\n",
        "        print(\"{} day output {}\".format(i,yhat))\n",
        "        temp_input.extend(yhat[0].tolist())\n",
        "        temp_input=temp_input[1:]\n",
        "        #print(temp_input)\n",
        "        lst_output.extend(yhat.tolist())\n",
        "        i=i+1\n",
        "    else:\n",
        "        x_input = x_input.reshape((1, n_steps,1))\n",
        "        yhat = model.predict(x_input, verbose=0)\n",
        "        print(yhat[0])\n",
        "        temp_input.extend(yhat[0].tolist())\n",
        "        print(len(temp_input))\n",
        "        lst_output.extend(yhat.tolist())\n",
        "        i=i+1\n",
        "    \n"
      ],
      "execution_count": 34,
      "outputs": [
        {
          "output_type": "stream",
          "text": [
            "[0.08154128]\n",
            "101\n",
            "1 day input [0.09382925 0.08904722 0.08477237 0.08643884 0.09658254 0.10827195\n",
            " 0.11358532 0.12288371 0.12346335 0.12080667 0.10880328 0.09641348\n",
            " 0.10167854 0.10373143 0.10119551 0.10952783 0.10800628 0.10836855\n",
            " 0.1061949  0.1046975  0.10406956 0.1046492  0.09938413 0.09370849\n",
            " 0.09097935 0.09136578 0.08201908 0.08168096 0.08044922 0.06991909\n",
            " 0.07057119 0.08634223 0.07989373 0.07250332 0.06784205 0.07095761\n",
            " 0.05873687 0.07014853 0.06747977 0.0722618  0.0700157  0.07716459\n",
            " 0.08098056 0.07902427 0.06880811 0.06750392 0.07571549 0.0736626\n",
            " 0.06774544 0.06895302 0.07045043 0.07088516 0.06728656 0.07272069\n",
            " 0.07477358 0.08177756 0.08252626 0.0866079  0.09254921 0.09891317\n",
            " 0.09467456 0.10237894 0.09658254 0.102548   0.10172684 0.10336916\n",
            " 0.09919092 0.10013283 0.09636517 0.10211327 0.10307934 0.10228233\n",
            " 0.10032605 0.10008453 0.09520589 0.09781427 0.08648714 0.08709093\n",
            " 0.09105181 0.09218693 0.08407197 0.08180171 0.07421809 0.07953146\n",
            " 0.08552107 0.08267117 0.07924164 0.07885521 0.08518295 0.08064243\n",
            " 0.08467576 0.08419273 0.08407197 0.08028016 0.078662   0.07786499\n",
            " 0.07974882 0.07607777 0.08175341 0.08154128]\n",
            "1 day output [[0.08120742]]\n",
            "2 day input [0.08904722 0.08477237 0.08643884 0.09658254 0.10827195 0.11358532\n",
            " 0.12288371 0.12346335 0.12080667 0.10880328 0.09641348 0.10167854\n",
            " 0.10373143 0.10119551 0.10952783 0.10800628 0.10836855 0.1061949\n",
            " 0.1046975  0.10406956 0.1046492  0.09938413 0.09370849 0.09097935\n",
            " 0.09136578 0.08201908 0.08168096 0.08044922 0.06991909 0.07057119\n",
            " 0.08634223 0.07989373 0.07250332 0.06784205 0.07095761 0.05873687\n",
            " 0.07014853 0.06747977 0.0722618  0.0700157  0.07716459 0.08098056\n",
            " 0.07902427 0.06880811 0.06750392 0.07571549 0.0736626  0.06774544\n",
            " 0.06895302 0.07045043 0.07088516 0.06728656 0.07272069 0.07477358\n",
            " 0.08177756 0.08252626 0.0866079  0.09254921 0.09891317 0.09467456\n",
            " 0.10237894 0.09658254 0.102548   0.10172684 0.10336916 0.09919092\n",
            " 0.10013283 0.09636517 0.10211327 0.10307934 0.10228233 0.10032605\n",
            " 0.10008453 0.09520589 0.09781427 0.08648714 0.08709093 0.09105181\n",
            " 0.09218693 0.08407197 0.08180171 0.07421809 0.07953146 0.08552107\n",
            " 0.08267117 0.07924164 0.07885521 0.08518295 0.08064243 0.08467576\n",
            " 0.08419273 0.08407197 0.08028016 0.078662   0.07786499 0.07974882\n",
            " 0.07607777 0.08175341 0.08154128 0.08120742]\n",
            "2 day output [[0.08127978]]\n",
            "3 day input [0.08477237 0.08643884 0.09658254 0.10827195 0.11358532 0.12288371\n",
            " 0.12346335 0.12080667 0.10880328 0.09641348 0.10167854 0.10373143\n",
            " 0.10119551 0.10952783 0.10800628 0.10836855 0.1061949  0.1046975\n",
            " 0.10406956 0.1046492  0.09938413 0.09370849 0.09097935 0.09136578\n",
            " 0.08201908 0.08168096 0.08044922 0.06991909 0.07057119 0.08634223\n",
            " 0.07989373 0.07250332 0.06784205 0.07095761 0.05873687 0.07014853\n",
            " 0.06747977 0.0722618  0.0700157  0.07716459 0.08098056 0.07902427\n",
            " 0.06880811 0.06750392 0.07571549 0.0736626  0.06774544 0.06895302\n",
            " 0.07045043 0.07088516 0.06728656 0.07272069 0.07477358 0.08177756\n",
            " 0.08252626 0.0866079  0.09254921 0.09891317 0.09467456 0.10237894\n",
            " 0.09658254 0.102548   0.10172684 0.10336916 0.09919092 0.10013283\n",
            " 0.09636517 0.10211327 0.10307934 0.10228233 0.10032605 0.10008453\n",
            " 0.09520589 0.09781427 0.08648714 0.08709093 0.09105181 0.09218693\n",
            " 0.08407197 0.08180171 0.07421809 0.07953146 0.08552107 0.08267117\n",
            " 0.07924164 0.07885521 0.08518295 0.08064243 0.08467576 0.08419273\n",
            " 0.08407197 0.08028016 0.078662   0.07786499 0.07974882 0.07607777\n",
            " 0.08175341 0.08154128 0.08120742 0.08127978]\n",
            "3 day output [[0.08160732]]\n",
            "4 day input [0.08643884 0.09658254 0.10827195 0.11358532 0.12288371 0.12346335\n",
            " 0.12080667 0.10880328 0.09641348 0.10167854 0.10373143 0.10119551\n",
            " 0.10952783 0.10800628 0.10836855 0.1061949  0.1046975  0.10406956\n",
            " 0.1046492  0.09938413 0.09370849 0.09097935 0.09136578 0.08201908\n",
            " 0.08168096 0.08044922 0.06991909 0.07057119 0.08634223 0.07989373\n",
            " 0.07250332 0.06784205 0.07095761 0.05873687 0.07014853 0.06747977\n",
            " 0.0722618  0.0700157  0.07716459 0.08098056 0.07902427 0.06880811\n",
            " 0.06750392 0.07571549 0.0736626  0.06774544 0.06895302 0.07045043\n",
            " 0.07088516 0.06728656 0.07272069 0.07477358 0.08177756 0.08252626\n",
            " 0.0866079  0.09254921 0.09891317 0.09467456 0.10237894 0.09658254\n",
            " 0.102548   0.10172684 0.10336916 0.09919092 0.10013283 0.09636517\n",
            " 0.10211327 0.10307934 0.10228233 0.10032605 0.10008453 0.09520589\n",
            " 0.09781427 0.08648714 0.08709093 0.09105181 0.09218693 0.08407197\n",
            " 0.08180171 0.07421809 0.07953146 0.08552107 0.08267117 0.07924164\n",
            " 0.07885521 0.08518295 0.08064243 0.08467576 0.08419273 0.08407197\n",
            " 0.08028016 0.078662   0.07786499 0.07974882 0.07607777 0.08175341\n",
            " 0.08154128 0.08120742 0.08127978 0.08160732]\n",
            "4 day output [[0.08205876]]\n",
            "5 day input [0.09658254 0.10827195 0.11358532 0.12288371 0.12346335 0.12080667\n",
            " 0.10880328 0.09641348 0.10167854 0.10373143 0.10119551 0.10952783\n",
            " 0.10800628 0.10836855 0.1061949  0.1046975  0.10406956 0.1046492\n",
            " 0.09938413 0.09370849 0.09097935 0.09136578 0.08201908 0.08168096\n",
            " 0.08044922 0.06991909 0.07057119 0.08634223 0.07989373 0.07250332\n",
            " 0.06784205 0.07095761 0.05873687 0.07014853 0.06747977 0.0722618\n",
            " 0.0700157  0.07716459 0.08098056 0.07902427 0.06880811 0.06750392\n",
            " 0.07571549 0.0736626  0.06774544 0.06895302 0.07045043 0.07088516\n",
            " 0.06728656 0.07272069 0.07477358 0.08177756 0.08252626 0.0866079\n",
            " 0.09254921 0.09891317 0.09467456 0.10237894 0.09658254 0.102548\n",
            " 0.10172684 0.10336916 0.09919092 0.10013283 0.09636517 0.10211327\n",
            " 0.10307934 0.10228233 0.10032605 0.10008453 0.09520589 0.09781427\n",
            " 0.08648714 0.08709093 0.09105181 0.09218693 0.08407197 0.08180171\n",
            " 0.07421809 0.07953146 0.08552107 0.08267117 0.07924164 0.07885521\n",
            " 0.08518295 0.08064243 0.08467576 0.08419273 0.08407197 0.08028016\n",
            " 0.078662   0.07786499 0.07974882 0.07607777 0.08175341 0.08154128\n",
            " 0.08120742 0.08127978 0.08160732 0.08205876]\n",
            "5 day output [[0.08254577]]\n",
            "6 day input [0.10827195 0.11358532 0.12288371 0.12346335 0.12080667 0.10880328\n",
            " 0.09641348 0.10167854 0.10373143 0.10119551 0.10952783 0.10800628\n",
            " 0.10836855 0.1061949  0.1046975  0.10406956 0.1046492  0.09938413\n",
            " 0.09370849 0.09097935 0.09136578 0.08201908 0.08168096 0.08044922\n",
            " 0.06991909 0.07057119 0.08634223 0.07989373 0.07250332 0.06784205\n",
            " 0.07095761 0.05873687 0.07014853 0.06747977 0.0722618  0.0700157\n",
            " 0.07716459 0.08098056 0.07902427 0.06880811 0.06750392 0.07571549\n",
            " 0.0736626  0.06774544 0.06895302 0.07045043 0.07088516 0.06728656\n",
            " 0.07272069 0.07477358 0.08177756 0.08252626 0.0866079  0.09254921\n",
            " 0.09891317 0.09467456 0.10237894 0.09658254 0.102548   0.10172684\n",
            " 0.10336916 0.09919092 0.10013283 0.09636517 0.10211327 0.10307934\n",
            " 0.10228233 0.10032605 0.10008453 0.09520589 0.09781427 0.08648714\n",
            " 0.08709093 0.09105181 0.09218693 0.08407197 0.08180171 0.07421809\n",
            " 0.07953146 0.08552107 0.08267117 0.07924164 0.07885521 0.08518295\n",
            " 0.08064243 0.08467576 0.08419273 0.08407197 0.08028016 0.078662\n",
            " 0.07786499 0.07974882 0.07607777 0.08175341 0.08154128 0.08120742\n",
            " 0.08127978 0.08160732 0.08205876 0.08254577]\n",
            "6 day output [[0.08301982]]\n",
            "7 day input [0.11358532 0.12288371 0.12346335 0.12080667 0.10880328 0.09641348\n",
            " 0.10167854 0.10373143 0.10119551 0.10952783 0.10800628 0.10836855\n",
            " 0.1061949  0.1046975  0.10406956 0.1046492  0.09938413 0.09370849\n",
            " 0.09097935 0.09136578 0.08201908 0.08168096 0.08044922 0.06991909\n",
            " 0.07057119 0.08634223 0.07989373 0.07250332 0.06784205 0.07095761\n",
            " 0.05873687 0.07014853 0.06747977 0.0722618  0.0700157  0.07716459\n",
            " 0.08098056 0.07902427 0.06880811 0.06750392 0.07571549 0.0736626\n",
            " 0.06774544 0.06895302 0.07045043 0.07088516 0.06728656 0.07272069\n",
            " 0.07477358 0.08177756 0.08252626 0.0866079  0.09254921 0.09891317\n",
            " 0.09467456 0.10237894 0.09658254 0.102548   0.10172684 0.10336916\n",
            " 0.09919092 0.10013283 0.09636517 0.10211327 0.10307934 0.10228233\n",
            " 0.10032605 0.10008453 0.09520589 0.09781427 0.08648714 0.08709093\n",
            " 0.09105181 0.09218693 0.08407197 0.08180171 0.07421809 0.07953146\n",
            " 0.08552107 0.08267117 0.07924164 0.07885521 0.08518295 0.08064243\n",
            " 0.08467576 0.08419273 0.08407197 0.08028016 0.078662   0.07786499\n",
            " 0.07974882 0.07607777 0.08175341 0.08154128 0.08120742 0.08127978\n",
            " 0.08160732 0.08205876 0.08254577 0.08301982]\n",
            "7 day output [[0.08345967]]\n",
            "8 day input [0.12288371 0.12346335 0.12080667 0.10880328 0.09641348 0.10167854\n",
            " 0.10373143 0.10119551 0.10952783 0.10800628 0.10836855 0.1061949\n",
            " 0.1046975  0.10406956 0.1046492  0.09938413 0.09370849 0.09097935\n",
            " 0.09136578 0.08201908 0.08168096 0.08044922 0.06991909 0.07057119\n",
            " 0.08634223 0.07989373 0.07250332 0.06784205 0.07095761 0.05873687\n",
            " 0.07014853 0.06747977 0.0722618  0.0700157  0.07716459 0.08098056\n",
            " 0.07902427 0.06880811 0.06750392 0.07571549 0.0736626  0.06774544\n",
            " 0.06895302 0.07045043 0.07088516 0.06728656 0.07272069 0.07477358\n",
            " 0.08177756 0.08252626 0.0866079  0.09254921 0.09891317 0.09467456\n",
            " 0.10237894 0.09658254 0.102548   0.10172684 0.10336916 0.09919092\n",
            " 0.10013283 0.09636517 0.10211327 0.10307934 0.10228233 0.10032605\n",
            " 0.10008453 0.09520589 0.09781427 0.08648714 0.08709093 0.09105181\n",
            " 0.09218693 0.08407197 0.08180171 0.07421809 0.07953146 0.08552107\n",
            " 0.08267117 0.07924164 0.07885521 0.08518295 0.08064243 0.08467576\n",
            " 0.08419273 0.08407197 0.08028016 0.078662   0.07786499 0.07974882\n",
            " 0.07607777 0.08175341 0.08154128 0.08120742 0.08127978 0.08160732\n",
            " 0.08205876 0.08254577 0.08301982 0.08345967]\n",
            "8 day output [[0.0838599]]\n",
            "9 day input [0.12346335 0.12080667 0.10880328 0.09641348 0.10167854 0.10373143\n",
            " 0.10119551 0.10952783 0.10800628 0.10836855 0.1061949  0.1046975\n",
            " 0.10406956 0.1046492  0.09938413 0.09370849 0.09097935 0.09136578\n",
            " 0.08201908 0.08168096 0.08044922 0.06991909 0.07057119 0.08634223\n",
            " 0.07989373 0.07250332 0.06784205 0.07095761 0.05873687 0.07014853\n",
            " 0.06747977 0.0722618  0.0700157  0.07716459 0.08098056 0.07902427\n",
            " 0.06880811 0.06750392 0.07571549 0.0736626  0.06774544 0.06895302\n",
            " 0.07045043 0.07088516 0.06728656 0.07272069 0.07477358 0.08177756\n",
            " 0.08252626 0.0866079  0.09254921 0.09891317 0.09467456 0.10237894\n",
            " 0.09658254 0.102548   0.10172684 0.10336916 0.09919092 0.10013283\n",
            " 0.09636517 0.10211327 0.10307934 0.10228233 0.10032605 0.10008453\n",
            " 0.09520589 0.09781427 0.08648714 0.08709093 0.09105181 0.09218693\n",
            " 0.08407197 0.08180171 0.07421809 0.07953146 0.08552107 0.08267117\n",
            " 0.07924164 0.07885521 0.08518295 0.08064243 0.08467576 0.08419273\n",
            " 0.08407197 0.08028016 0.078662   0.07786499 0.07974882 0.07607777\n",
            " 0.08175341 0.08154128 0.08120742 0.08127978 0.08160732 0.08205876\n",
            " 0.08254577 0.08301982 0.08345967 0.0838599 ]\n",
            "9 day output [[0.08422242]]\n",
            "10 day input [0.12080667 0.10880328 0.09641348 0.10167854 0.10373143 0.10119551\n",
            " 0.10952783 0.10800628 0.10836855 0.1061949  0.1046975  0.10406956\n",
            " 0.1046492  0.09938413 0.09370849 0.09097935 0.09136578 0.08201908\n",
            " 0.08168096 0.08044922 0.06991909 0.07057119 0.08634223 0.07989373\n",
            " 0.07250332 0.06784205 0.07095761 0.05873687 0.07014853 0.06747977\n",
            " 0.0722618  0.0700157  0.07716459 0.08098056 0.07902427 0.06880811\n",
            " 0.06750392 0.07571549 0.0736626  0.06774544 0.06895302 0.07045043\n",
            " 0.07088516 0.06728656 0.07272069 0.07477358 0.08177756 0.08252626\n",
            " 0.0866079  0.09254921 0.09891317 0.09467456 0.10237894 0.09658254\n",
            " 0.102548   0.10172684 0.10336916 0.09919092 0.10013283 0.09636517\n",
            " 0.10211327 0.10307934 0.10228233 0.10032605 0.10008453 0.09520589\n",
            " 0.09781427 0.08648714 0.08709093 0.09105181 0.09218693 0.08407197\n",
            " 0.08180171 0.07421809 0.07953146 0.08552107 0.08267117 0.07924164\n",
            " 0.07885521 0.08518295 0.08064243 0.08467576 0.08419273 0.08407197\n",
            " 0.08028016 0.078662   0.07786499 0.07974882 0.07607777 0.08175341\n",
            " 0.08154128 0.08120742 0.08127978 0.08160732 0.08205876 0.08254577\n",
            " 0.08301982 0.08345967 0.0838599  0.08422242]\n",
            "10 day output [[0.08455183]]\n",
            "11 day input [0.10880328 0.09641348 0.10167854 0.10373143 0.10119551 0.10952783\n",
            " 0.10800628 0.10836855 0.1061949  0.1046975  0.10406956 0.1046492\n",
            " 0.09938413 0.09370849 0.09097935 0.09136578 0.08201908 0.08168096\n",
            " 0.08044922 0.06991909 0.07057119 0.08634223 0.07989373 0.07250332\n",
            " 0.06784205 0.07095761 0.05873687 0.07014853 0.06747977 0.0722618\n",
            " 0.0700157  0.07716459 0.08098056 0.07902427 0.06880811 0.06750392\n",
            " 0.07571549 0.0736626  0.06774544 0.06895302 0.07045043 0.07088516\n",
            " 0.06728656 0.07272069 0.07477358 0.08177756 0.08252626 0.0866079\n",
            " 0.09254921 0.09891317 0.09467456 0.10237894 0.09658254 0.102548\n",
            " 0.10172684 0.10336916 0.09919092 0.10013283 0.09636517 0.10211327\n",
            " 0.10307934 0.10228233 0.10032605 0.10008453 0.09520589 0.09781427\n",
            " 0.08648714 0.08709093 0.09105181 0.09218693 0.08407197 0.08180171\n",
            " 0.07421809 0.07953146 0.08552107 0.08267117 0.07924164 0.07885521\n",
            " 0.08518295 0.08064243 0.08467576 0.08419273 0.08407197 0.08028016\n",
            " 0.078662   0.07786499 0.07974882 0.07607777 0.08175341 0.08154128\n",
            " 0.08120742 0.08127978 0.08160732 0.08205876 0.08254577 0.08301982\n",
            " 0.08345967 0.0838599  0.08422242 0.08455183]\n",
            "11 day output [[0.08485322]]\n",
            "12 day input [0.09641348 0.10167854 0.10373143 0.10119551 0.10952783 0.10800628\n",
            " 0.10836855 0.1061949  0.1046975  0.10406956 0.1046492  0.09938413\n",
            " 0.09370849 0.09097935 0.09136578 0.08201908 0.08168096 0.08044922\n",
            " 0.06991909 0.07057119 0.08634223 0.07989373 0.07250332 0.06784205\n",
            " 0.07095761 0.05873687 0.07014853 0.06747977 0.0722618  0.0700157\n",
            " 0.07716459 0.08098056 0.07902427 0.06880811 0.06750392 0.07571549\n",
            " 0.0736626  0.06774544 0.06895302 0.07045043 0.07088516 0.06728656\n",
            " 0.07272069 0.07477358 0.08177756 0.08252626 0.0866079  0.09254921\n",
            " 0.09891317 0.09467456 0.10237894 0.09658254 0.102548   0.10172684\n",
            " 0.10336916 0.09919092 0.10013283 0.09636517 0.10211327 0.10307934\n",
            " 0.10228233 0.10032605 0.10008453 0.09520589 0.09781427 0.08648714\n",
            " 0.08709093 0.09105181 0.09218693 0.08407197 0.08180171 0.07421809\n",
            " 0.07953146 0.08552107 0.08267117 0.07924164 0.07885521 0.08518295\n",
            " 0.08064243 0.08467576 0.08419273 0.08407197 0.08028016 0.078662\n",
            " 0.07786499 0.07974882 0.07607777 0.08175341 0.08154128 0.08120742\n",
            " 0.08127978 0.08160732 0.08205876 0.08254577 0.08301982 0.08345967\n",
            " 0.0838599  0.08422242 0.08455183 0.08485322]\n",
            "12 day output [[0.08513134]]\n",
            "13 day input [0.10167854 0.10373143 0.10119551 0.10952783 0.10800628 0.10836855\n",
            " 0.1061949  0.1046975  0.10406956 0.1046492  0.09938413 0.09370849\n",
            " 0.09097935 0.09136578 0.08201908 0.08168096 0.08044922 0.06991909\n",
            " 0.07057119 0.08634223 0.07989373 0.07250332 0.06784205 0.07095761\n",
            " 0.05873687 0.07014853 0.06747977 0.0722618  0.0700157  0.07716459\n",
            " 0.08098056 0.07902427 0.06880811 0.06750392 0.07571549 0.0736626\n",
            " 0.06774544 0.06895302 0.07045043 0.07088516 0.06728656 0.07272069\n",
            " 0.07477358 0.08177756 0.08252626 0.0866079  0.09254921 0.09891317\n",
            " 0.09467456 0.10237894 0.09658254 0.102548   0.10172684 0.10336916\n",
            " 0.09919092 0.10013283 0.09636517 0.10211327 0.10307934 0.10228233\n",
            " 0.10032605 0.10008453 0.09520589 0.09781427 0.08648714 0.08709093\n",
            " 0.09105181 0.09218693 0.08407197 0.08180171 0.07421809 0.07953146\n",
            " 0.08552107 0.08267117 0.07924164 0.07885521 0.08518295 0.08064243\n",
            " 0.08467576 0.08419273 0.08407197 0.08028016 0.078662   0.07786499\n",
            " 0.07974882 0.07607777 0.08175341 0.08154128 0.08120742 0.08127978\n",
            " 0.08160732 0.08205876 0.08254577 0.08301982 0.08345967 0.0838599\n",
            " 0.08422242 0.08455183 0.08485322 0.08513134]\n",
            "13 day output [[0.08539076]]\n",
            "14 day input [0.10373143 0.10119551 0.10952783 0.10800628 0.10836855 0.1061949\n",
            " 0.1046975  0.10406956 0.1046492  0.09938413 0.09370849 0.09097935\n",
            " 0.09136578 0.08201908 0.08168096 0.08044922 0.06991909 0.07057119\n",
            " 0.08634223 0.07989373 0.07250332 0.06784205 0.07095761 0.05873687\n",
            " 0.07014853 0.06747977 0.0722618  0.0700157  0.07716459 0.08098056\n",
            " 0.07902427 0.06880811 0.06750392 0.07571549 0.0736626  0.06774544\n",
            " 0.06895302 0.07045043 0.07088516 0.06728656 0.07272069 0.07477358\n",
            " 0.08177756 0.08252626 0.0866079  0.09254921 0.09891317 0.09467456\n",
            " 0.10237894 0.09658254 0.102548   0.10172684 0.10336916 0.09919092\n",
            " 0.10013283 0.09636517 0.10211327 0.10307934 0.10228233 0.10032605\n",
            " 0.10008453 0.09520589 0.09781427 0.08648714 0.08709093 0.09105181\n",
            " 0.09218693 0.08407197 0.08180171 0.07421809 0.07953146 0.08552107\n",
            " 0.08267117 0.07924164 0.07885521 0.08518295 0.08064243 0.08467576\n",
            " 0.08419273 0.08407197 0.08028016 0.078662   0.07786499 0.07974882\n",
            " 0.07607777 0.08175341 0.08154128 0.08120742 0.08127978 0.08160732\n",
            " 0.08205876 0.08254577 0.08301982 0.08345967 0.0838599  0.08422242\n",
            " 0.08455183 0.08485322 0.08513134 0.08539076]\n",
            "14 day output [[0.08563563]]\n",
            "15 day input [0.10119551 0.10952783 0.10800628 0.10836855 0.1061949  0.1046975\n",
            " 0.10406956 0.1046492  0.09938413 0.09370849 0.09097935 0.09136578\n",
            " 0.08201908 0.08168096 0.08044922 0.06991909 0.07057119 0.08634223\n",
            " 0.07989373 0.07250332 0.06784205 0.07095761 0.05873687 0.07014853\n",
            " 0.06747977 0.0722618  0.0700157  0.07716459 0.08098056 0.07902427\n",
            " 0.06880811 0.06750392 0.07571549 0.0736626  0.06774544 0.06895302\n",
            " 0.07045043 0.07088516 0.06728656 0.07272069 0.07477358 0.08177756\n",
            " 0.08252626 0.0866079  0.09254921 0.09891317 0.09467456 0.10237894\n",
            " 0.09658254 0.102548   0.10172684 0.10336916 0.09919092 0.10013283\n",
            " 0.09636517 0.10211327 0.10307934 0.10228233 0.10032605 0.10008453\n",
            " 0.09520589 0.09781427 0.08648714 0.08709093 0.09105181 0.09218693\n",
            " 0.08407197 0.08180171 0.07421809 0.07953146 0.08552107 0.08267117\n",
            " 0.07924164 0.07885521 0.08518295 0.08064243 0.08467576 0.08419273\n",
            " 0.08407197 0.08028016 0.078662   0.07786499 0.07974882 0.07607777\n",
            " 0.08175341 0.08154128 0.08120742 0.08127978 0.08160732 0.08205876\n",
            " 0.08254577 0.08301982 0.08345967 0.0838599  0.08422242 0.08455183\n",
            " 0.08485322 0.08513134 0.08539076 0.08563563]\n",
            "15 day output [[0.08586985]]\n",
            "16 day input [0.10952783 0.10800628 0.10836855 0.1061949  0.1046975  0.10406956\n",
            " 0.1046492  0.09938413 0.09370849 0.09097935 0.09136578 0.08201908\n",
            " 0.08168096 0.08044922 0.06991909 0.07057119 0.08634223 0.07989373\n",
            " 0.07250332 0.06784205 0.07095761 0.05873687 0.07014853 0.06747977\n",
            " 0.0722618  0.0700157  0.07716459 0.08098056 0.07902427 0.06880811\n",
            " 0.06750392 0.07571549 0.0736626  0.06774544 0.06895302 0.07045043\n",
            " 0.07088516 0.06728656 0.07272069 0.07477358 0.08177756 0.08252626\n",
            " 0.0866079  0.09254921 0.09891317 0.09467456 0.10237894 0.09658254\n",
            " 0.102548   0.10172684 0.10336916 0.09919092 0.10013283 0.09636517\n",
            " 0.10211327 0.10307934 0.10228233 0.10032605 0.10008453 0.09520589\n",
            " 0.09781427 0.08648714 0.08709093 0.09105181 0.09218693 0.08407197\n",
            " 0.08180171 0.07421809 0.07953146 0.08552107 0.08267117 0.07924164\n",
            " 0.07885521 0.08518295 0.08064243 0.08467576 0.08419273 0.08407197\n",
            " 0.08028016 0.078662   0.07786499 0.07974882 0.07607777 0.08175341\n",
            " 0.08154128 0.08120742 0.08127978 0.08160732 0.08205876 0.08254577\n",
            " 0.08301982 0.08345967 0.0838599  0.08422242 0.08455183 0.08485322\n",
            " 0.08513134 0.08539076 0.08563563 0.08586985]\n",
            "16 day output [[0.08609702]]\n",
            "17 day input [0.10800628 0.10836855 0.1061949  0.1046975  0.10406956 0.1046492\n",
            " 0.09938413 0.09370849 0.09097935 0.09136578 0.08201908 0.08168096\n",
            " 0.08044922 0.06991909 0.07057119 0.08634223 0.07989373 0.07250332\n",
            " 0.06784205 0.07095761 0.05873687 0.07014853 0.06747977 0.0722618\n",
            " 0.0700157  0.07716459 0.08098056 0.07902427 0.06880811 0.06750392\n",
            " 0.07571549 0.0736626  0.06774544 0.06895302 0.07045043 0.07088516\n",
            " 0.06728656 0.07272069 0.07477358 0.08177756 0.08252626 0.0866079\n",
            " 0.09254921 0.09891317 0.09467456 0.10237894 0.09658254 0.102548\n",
            " 0.10172684 0.10336916 0.09919092 0.10013283 0.09636517 0.10211327\n",
            " 0.10307934 0.10228233 0.10032605 0.10008453 0.09520589 0.09781427\n",
            " 0.08648714 0.08709093 0.09105181 0.09218693 0.08407197 0.08180171\n",
            " 0.07421809 0.07953146 0.08552107 0.08267117 0.07924164 0.07885521\n",
            " 0.08518295 0.08064243 0.08467576 0.08419273 0.08407197 0.08028016\n",
            " 0.078662   0.07786499 0.07974882 0.07607777 0.08175341 0.08154128\n",
            " 0.08120742 0.08127978 0.08160732 0.08205876 0.08254577 0.08301982\n",
            " 0.08345967 0.0838599  0.08422242 0.08455183 0.08485322 0.08513134\n",
            " 0.08539076 0.08563563 0.08586985 0.08609702]\n",
            "17 day output [[0.08632036]]\n",
            "18 day input [0.10836855 0.1061949  0.1046975  0.10406956 0.1046492  0.09938413\n",
            " 0.09370849 0.09097935 0.09136578 0.08201908 0.08168096 0.08044922\n",
            " 0.06991909 0.07057119 0.08634223 0.07989373 0.07250332 0.06784205\n",
            " 0.07095761 0.05873687 0.07014853 0.06747977 0.0722618  0.0700157\n",
            " 0.07716459 0.08098056 0.07902427 0.06880811 0.06750392 0.07571549\n",
            " 0.0736626  0.06774544 0.06895302 0.07045043 0.07088516 0.06728656\n",
            " 0.07272069 0.07477358 0.08177756 0.08252626 0.0866079  0.09254921\n",
            " 0.09891317 0.09467456 0.10237894 0.09658254 0.102548   0.10172684\n",
            " 0.10336916 0.09919092 0.10013283 0.09636517 0.10211327 0.10307934\n",
            " 0.10228233 0.10032605 0.10008453 0.09520589 0.09781427 0.08648714\n",
            " 0.08709093 0.09105181 0.09218693 0.08407197 0.08180171 0.07421809\n",
            " 0.07953146 0.08552107 0.08267117 0.07924164 0.07885521 0.08518295\n",
            " 0.08064243 0.08467576 0.08419273 0.08407197 0.08028016 0.078662\n",
            " 0.07786499 0.07974882 0.07607777 0.08175341 0.08154128 0.08120742\n",
            " 0.08127978 0.08160732 0.08205876 0.08254577 0.08301982 0.08345967\n",
            " 0.0838599  0.08422242 0.08455183 0.08485322 0.08513134 0.08539076\n",
            " 0.08563563 0.08586985 0.08609702 0.08632036]\n",
            "18 day output [[0.08654259]]\n",
            "19 day input [0.1061949  0.1046975  0.10406956 0.1046492  0.09938413 0.09370849\n",
            " 0.09097935 0.09136578 0.08201908 0.08168096 0.08044922 0.06991909\n",
            " 0.07057119 0.08634223 0.07989373 0.07250332 0.06784205 0.07095761\n",
            " 0.05873687 0.07014853 0.06747977 0.0722618  0.0700157  0.07716459\n",
            " 0.08098056 0.07902427 0.06880811 0.06750392 0.07571549 0.0736626\n",
            " 0.06774544 0.06895302 0.07045043 0.07088516 0.06728656 0.07272069\n",
            " 0.07477358 0.08177756 0.08252626 0.0866079  0.09254921 0.09891317\n",
            " 0.09467456 0.10237894 0.09658254 0.102548   0.10172684 0.10336916\n",
            " 0.09919092 0.10013283 0.09636517 0.10211327 0.10307934 0.10228233\n",
            " 0.10032605 0.10008453 0.09520589 0.09781427 0.08648714 0.08709093\n",
            " 0.09105181 0.09218693 0.08407197 0.08180171 0.07421809 0.07953146\n",
            " 0.08552107 0.08267117 0.07924164 0.07885521 0.08518295 0.08064243\n",
            " 0.08467576 0.08419273 0.08407197 0.08028016 0.078662   0.07786499\n",
            " 0.07974882 0.07607777 0.08175341 0.08154128 0.08120742 0.08127978\n",
            " 0.08160732 0.08205876 0.08254577 0.08301982 0.08345967 0.0838599\n",
            " 0.08422242 0.08455183 0.08485322 0.08513134 0.08539076 0.08563563\n",
            " 0.08586985 0.08609702 0.08632036 0.08654259]\n",
            "19 day output [[0.08676597]]\n",
            "20 day input [0.1046975  0.10406956 0.1046492  0.09938413 0.09370849 0.09097935\n",
            " 0.09136578 0.08201908 0.08168096 0.08044922 0.06991909 0.07057119\n",
            " 0.08634223 0.07989373 0.07250332 0.06784205 0.07095761 0.05873687\n",
            " 0.07014853 0.06747977 0.0722618  0.0700157  0.07716459 0.08098056\n",
            " 0.07902427 0.06880811 0.06750392 0.07571549 0.0736626  0.06774544\n",
            " 0.06895302 0.07045043 0.07088516 0.06728656 0.07272069 0.07477358\n",
            " 0.08177756 0.08252626 0.0866079  0.09254921 0.09891317 0.09467456\n",
            " 0.10237894 0.09658254 0.102548   0.10172684 0.10336916 0.09919092\n",
            " 0.10013283 0.09636517 0.10211327 0.10307934 0.10228233 0.10032605\n",
            " 0.10008453 0.09520589 0.09781427 0.08648714 0.08709093 0.09105181\n",
            " 0.09218693 0.08407197 0.08180171 0.07421809 0.07953146 0.08552107\n",
            " 0.08267117 0.07924164 0.07885521 0.08518295 0.08064243 0.08467576\n",
            " 0.08419273 0.08407197 0.08028016 0.078662   0.07786499 0.07974882\n",
            " 0.07607777 0.08175341 0.08154128 0.08120742 0.08127978 0.08160732\n",
            " 0.08205876 0.08254577 0.08301982 0.08345967 0.0838599  0.08422242\n",
            " 0.08455183 0.08485322 0.08513134 0.08539076 0.08563563 0.08586985\n",
            " 0.08609702 0.08632036 0.08654259 0.08676597]\n",
            "20 day output [[0.08699208]]\n",
            "21 day input [0.10406956 0.1046492  0.09938413 0.09370849 0.09097935 0.09136578\n",
            " 0.08201908 0.08168096 0.08044922 0.06991909 0.07057119 0.08634223\n",
            " 0.07989373 0.07250332 0.06784205 0.07095761 0.05873687 0.07014853\n",
            " 0.06747977 0.0722618  0.0700157  0.07716459 0.08098056 0.07902427\n",
            " 0.06880811 0.06750392 0.07571549 0.0736626  0.06774544 0.06895302\n",
            " 0.07045043 0.07088516 0.06728656 0.07272069 0.07477358 0.08177756\n",
            " 0.08252626 0.0866079  0.09254921 0.09891317 0.09467456 0.10237894\n",
            " 0.09658254 0.102548   0.10172684 0.10336916 0.09919092 0.10013283\n",
            " 0.09636517 0.10211327 0.10307934 0.10228233 0.10032605 0.10008453\n",
            " 0.09520589 0.09781427 0.08648714 0.08709093 0.09105181 0.09218693\n",
            " 0.08407197 0.08180171 0.07421809 0.07953146 0.08552107 0.08267117\n",
            " 0.07924164 0.07885521 0.08518295 0.08064243 0.08467576 0.08419273\n",
            " 0.08407197 0.08028016 0.078662   0.07786499 0.07974882 0.07607777\n",
            " 0.08175341 0.08154128 0.08120742 0.08127978 0.08160732 0.08205876\n",
            " 0.08254577 0.08301982 0.08345967 0.0838599  0.08422242 0.08455183\n",
            " 0.08485322 0.08513134 0.08539076 0.08563563 0.08586985 0.08609702\n",
            " 0.08632036 0.08654259 0.08676597 0.08699208]\n",
            "21 day output [[0.0872222]]\n",
            "22 day input [0.1046492  0.09938413 0.09370849 0.09097935 0.09136578 0.08201908\n",
            " 0.08168096 0.08044922 0.06991909 0.07057119 0.08634223 0.07989373\n",
            " 0.07250332 0.06784205 0.07095761 0.05873687 0.07014853 0.06747977\n",
            " 0.0722618  0.0700157  0.07716459 0.08098056 0.07902427 0.06880811\n",
            " 0.06750392 0.07571549 0.0736626  0.06774544 0.06895302 0.07045043\n",
            " 0.07088516 0.06728656 0.07272069 0.07477358 0.08177756 0.08252626\n",
            " 0.0866079  0.09254921 0.09891317 0.09467456 0.10237894 0.09658254\n",
            " 0.102548   0.10172684 0.10336916 0.09919092 0.10013283 0.09636517\n",
            " 0.10211327 0.10307934 0.10228233 0.10032605 0.10008453 0.09520589\n",
            " 0.09781427 0.08648714 0.08709093 0.09105181 0.09218693 0.08407197\n",
            " 0.08180171 0.07421809 0.07953146 0.08552107 0.08267117 0.07924164\n",
            " 0.07885521 0.08518295 0.08064243 0.08467576 0.08419273 0.08407197\n",
            " 0.08028016 0.078662   0.07786499 0.07974882 0.07607777 0.08175341\n",
            " 0.08154128 0.08120742 0.08127978 0.08160732 0.08205876 0.08254577\n",
            " 0.08301982 0.08345967 0.0838599  0.08422242 0.08455183 0.08485322\n",
            " 0.08513134 0.08539076 0.08563563 0.08586985 0.08609702 0.08632036\n",
            " 0.08654259 0.08676597 0.08699208 0.0872222 ]\n",
            "22 day output [[0.0874569]]\n",
            "23 day input [0.09938413 0.09370849 0.09097935 0.09136578 0.08201908 0.08168096\n",
            " 0.08044922 0.06991909 0.07057119 0.08634223 0.07989373 0.07250332\n",
            " 0.06784205 0.07095761 0.05873687 0.07014853 0.06747977 0.0722618\n",
            " 0.0700157  0.07716459 0.08098056 0.07902427 0.06880811 0.06750392\n",
            " 0.07571549 0.0736626  0.06774544 0.06895302 0.07045043 0.07088516\n",
            " 0.06728656 0.07272069 0.07477358 0.08177756 0.08252626 0.0866079\n",
            " 0.09254921 0.09891317 0.09467456 0.10237894 0.09658254 0.102548\n",
            " 0.10172684 0.10336916 0.09919092 0.10013283 0.09636517 0.10211327\n",
            " 0.10307934 0.10228233 0.10032605 0.10008453 0.09520589 0.09781427\n",
            " 0.08648714 0.08709093 0.09105181 0.09218693 0.08407197 0.08180171\n",
            " 0.07421809 0.07953146 0.08552107 0.08267117 0.07924164 0.07885521\n",
            " 0.08518295 0.08064243 0.08467576 0.08419273 0.08407197 0.08028016\n",
            " 0.078662   0.07786499 0.07974882 0.07607777 0.08175341 0.08154128\n",
            " 0.08120742 0.08127978 0.08160732 0.08205876 0.08254577 0.08301982\n",
            " 0.08345967 0.0838599  0.08422242 0.08455183 0.08485322 0.08513134\n",
            " 0.08539076 0.08563563 0.08586985 0.08609702 0.08632036 0.08654259\n",
            " 0.08676597 0.08699208 0.0872222  0.0874569 ]\n",
            "23 day output [[0.08769646]]\n",
            "24 day input [0.09370849 0.09097935 0.09136578 0.08201908 0.08168096 0.08044922\n",
            " 0.06991909 0.07057119 0.08634223 0.07989373 0.07250332 0.06784205\n",
            " 0.07095761 0.05873687 0.07014853 0.06747977 0.0722618  0.0700157\n",
            " 0.07716459 0.08098056 0.07902427 0.06880811 0.06750392 0.07571549\n",
            " 0.0736626  0.06774544 0.06895302 0.07045043 0.07088516 0.06728656\n",
            " 0.07272069 0.07477358 0.08177756 0.08252626 0.0866079  0.09254921\n",
            " 0.09891317 0.09467456 0.10237894 0.09658254 0.102548   0.10172684\n",
            " 0.10336916 0.09919092 0.10013283 0.09636517 0.10211327 0.10307934\n",
            " 0.10228233 0.10032605 0.10008453 0.09520589 0.09781427 0.08648714\n",
            " 0.08709093 0.09105181 0.09218693 0.08407197 0.08180171 0.07421809\n",
            " 0.07953146 0.08552107 0.08267117 0.07924164 0.07885521 0.08518295\n",
            " 0.08064243 0.08467576 0.08419273 0.08407197 0.08028016 0.078662\n",
            " 0.07786499 0.07974882 0.07607777 0.08175341 0.08154128 0.08120742\n",
            " 0.08127978 0.08160732 0.08205876 0.08254577 0.08301982 0.08345967\n",
            " 0.0838599  0.08422242 0.08455183 0.08485322 0.08513134 0.08539076\n",
            " 0.08563563 0.08586985 0.08609702 0.08632036 0.08654259 0.08676597\n",
            " 0.08699208 0.0872222  0.0874569  0.08769646]\n",
            "24 day output [[0.08794084]]\n",
            "25 day input [0.09097935 0.09136578 0.08201908 0.08168096 0.08044922 0.06991909\n",
            " 0.07057119 0.08634223 0.07989373 0.07250332 0.06784205 0.07095761\n",
            " 0.05873687 0.07014853 0.06747977 0.0722618  0.0700157  0.07716459\n",
            " 0.08098056 0.07902427 0.06880811 0.06750392 0.07571549 0.0736626\n",
            " 0.06774544 0.06895302 0.07045043 0.07088516 0.06728656 0.07272069\n",
            " 0.07477358 0.08177756 0.08252626 0.0866079  0.09254921 0.09891317\n",
            " 0.09467456 0.10237894 0.09658254 0.102548   0.10172684 0.10336916\n",
            " 0.09919092 0.10013283 0.09636517 0.10211327 0.10307934 0.10228233\n",
            " 0.10032605 0.10008453 0.09520589 0.09781427 0.08648714 0.08709093\n",
            " 0.09105181 0.09218693 0.08407197 0.08180171 0.07421809 0.07953146\n",
            " 0.08552107 0.08267117 0.07924164 0.07885521 0.08518295 0.08064243\n",
            " 0.08467576 0.08419273 0.08407197 0.08028016 0.078662   0.07786499\n",
            " 0.07974882 0.07607777 0.08175341 0.08154128 0.08120742 0.08127978\n",
            " 0.08160732 0.08205876 0.08254577 0.08301982 0.08345967 0.0838599\n",
            " 0.08422242 0.08455183 0.08485322 0.08513134 0.08539076 0.08563563\n",
            " 0.08586985 0.08609702 0.08632036 0.08654259 0.08676597 0.08699208\n",
            " 0.0872222  0.0874569  0.08769646 0.08794084]\n",
            "25 day output [[0.08818972]]\n",
            "26 day input [0.09136578 0.08201908 0.08168096 0.08044922 0.06991909 0.07057119\n",
            " 0.08634223 0.07989373 0.07250332 0.06784205 0.07095761 0.05873687\n",
            " 0.07014853 0.06747977 0.0722618  0.0700157  0.07716459 0.08098056\n",
            " 0.07902427 0.06880811 0.06750392 0.07571549 0.0736626  0.06774544\n",
            " 0.06895302 0.07045043 0.07088516 0.06728656 0.07272069 0.07477358\n",
            " 0.08177756 0.08252626 0.0866079  0.09254921 0.09891317 0.09467456\n",
            " 0.10237894 0.09658254 0.102548   0.10172684 0.10336916 0.09919092\n",
            " 0.10013283 0.09636517 0.10211327 0.10307934 0.10228233 0.10032605\n",
            " 0.10008453 0.09520589 0.09781427 0.08648714 0.08709093 0.09105181\n",
            " 0.09218693 0.08407197 0.08180171 0.07421809 0.07953146 0.08552107\n",
            " 0.08267117 0.07924164 0.07885521 0.08518295 0.08064243 0.08467576\n",
            " 0.08419273 0.08407197 0.08028016 0.078662   0.07786499 0.07974882\n",
            " 0.07607777 0.08175341 0.08154128 0.08120742 0.08127978 0.08160732\n",
            " 0.08205876 0.08254577 0.08301982 0.08345967 0.0838599  0.08422242\n",
            " 0.08455183 0.08485322 0.08513134 0.08539076 0.08563563 0.08586985\n",
            " 0.08609702 0.08632036 0.08654259 0.08676597 0.08699208 0.0872222\n",
            " 0.0874569  0.08769646 0.08794084 0.08818972]\n",
            "26 day output [[0.08844263]]\n",
            "27 day input [0.08201908 0.08168096 0.08044922 0.06991909 0.07057119 0.08634223\n",
            " 0.07989373 0.07250332 0.06784205 0.07095761 0.05873687 0.07014853\n",
            " 0.06747977 0.0722618  0.0700157  0.07716459 0.08098056 0.07902427\n",
            " 0.06880811 0.06750392 0.07571549 0.0736626  0.06774544 0.06895302\n",
            " 0.07045043 0.07088516 0.06728656 0.07272069 0.07477358 0.08177756\n",
            " 0.08252626 0.0866079  0.09254921 0.09891317 0.09467456 0.10237894\n",
            " 0.09658254 0.102548   0.10172684 0.10336916 0.09919092 0.10013283\n",
            " 0.09636517 0.10211327 0.10307934 0.10228233 0.10032605 0.10008453\n",
            " 0.09520589 0.09781427 0.08648714 0.08709093 0.09105181 0.09218693\n",
            " 0.08407197 0.08180171 0.07421809 0.07953146 0.08552107 0.08267117\n",
            " 0.07924164 0.07885521 0.08518295 0.08064243 0.08467576 0.08419273\n",
            " 0.08407197 0.08028016 0.078662   0.07786499 0.07974882 0.07607777\n",
            " 0.08175341 0.08154128 0.08120742 0.08127978 0.08160732 0.08205876\n",
            " 0.08254577 0.08301982 0.08345967 0.0838599  0.08422242 0.08455183\n",
            " 0.08485322 0.08513134 0.08539076 0.08563563 0.08586985 0.08609702\n",
            " 0.08632036 0.08654259 0.08676597 0.08699208 0.0872222  0.0874569\n",
            " 0.08769646 0.08794084 0.08818972 0.08844263]\n",
            "27 day output [[0.08869893]]\n",
            "28 day input [0.08168096 0.08044922 0.06991909 0.07057119 0.08634223 0.07989373\n",
            " 0.07250332 0.06784205 0.07095761 0.05873687 0.07014853 0.06747977\n",
            " 0.0722618  0.0700157  0.07716459 0.08098056 0.07902427 0.06880811\n",
            " 0.06750392 0.07571549 0.0736626  0.06774544 0.06895302 0.07045043\n",
            " 0.07088516 0.06728656 0.07272069 0.07477358 0.08177756 0.08252626\n",
            " 0.0866079  0.09254921 0.09891317 0.09467456 0.10237894 0.09658254\n",
            " 0.102548   0.10172684 0.10336916 0.09919092 0.10013283 0.09636517\n",
            " 0.10211327 0.10307934 0.10228233 0.10032605 0.10008453 0.09520589\n",
            " 0.09781427 0.08648714 0.08709093 0.09105181 0.09218693 0.08407197\n",
            " 0.08180171 0.07421809 0.07953146 0.08552107 0.08267117 0.07924164\n",
            " 0.07885521 0.08518295 0.08064243 0.08467576 0.08419273 0.08407197\n",
            " 0.08028016 0.078662   0.07786499 0.07974882 0.07607777 0.08175341\n",
            " 0.08154128 0.08120742 0.08127978 0.08160732 0.08205876 0.08254577\n",
            " 0.08301982 0.08345967 0.0838599  0.08422242 0.08455183 0.08485322\n",
            " 0.08513134 0.08539076 0.08563563 0.08586985 0.08609702 0.08632036\n",
            " 0.08654259 0.08676597 0.08699208 0.0872222  0.0874569  0.08769646\n",
            " 0.08794084 0.08818972 0.08844263 0.08869893]\n",
            "28 day output [[0.088958]]\n",
            "29 day input [0.08044922 0.06991909 0.07057119 0.08634223 0.07989373 0.07250332\n",
            " 0.06784205 0.07095761 0.05873687 0.07014853 0.06747977 0.0722618\n",
            " 0.0700157  0.07716459 0.08098056 0.07902427 0.06880811 0.06750392\n",
            " 0.07571549 0.0736626  0.06774544 0.06895302 0.07045043 0.07088516\n",
            " 0.06728656 0.07272069 0.07477358 0.08177756 0.08252626 0.0866079\n",
            " 0.09254921 0.09891317 0.09467456 0.10237894 0.09658254 0.102548\n",
            " 0.10172684 0.10336916 0.09919092 0.10013283 0.09636517 0.10211327\n",
            " 0.10307934 0.10228233 0.10032605 0.10008453 0.09520589 0.09781427\n",
            " 0.08648714 0.08709093 0.09105181 0.09218693 0.08407197 0.08180171\n",
            " 0.07421809 0.07953146 0.08552107 0.08267117 0.07924164 0.07885521\n",
            " 0.08518295 0.08064243 0.08467576 0.08419273 0.08407197 0.08028016\n",
            " 0.078662   0.07786499 0.07974882 0.07607777 0.08175341 0.08154128\n",
            " 0.08120742 0.08127978 0.08160732 0.08205876 0.08254577 0.08301982\n",
            " 0.08345967 0.0838599  0.08422242 0.08455183 0.08485322 0.08513134\n",
            " 0.08539076 0.08563563 0.08586985 0.08609702 0.08632036 0.08654259\n",
            " 0.08676597 0.08699208 0.0872222  0.0874569  0.08769646 0.08794084\n",
            " 0.08818972 0.08844263 0.08869893 0.088958  ]\n",
            "29 day output [[0.08921924]]\n"
          ],
          "name": "stdout"
        }
      ]
    },
    {
      "cell_type": "code",
      "metadata": {
        "colab": {
          "base_uri": "https://localhost:8080/",
          "height": 283
        },
        "id": "lzEOQU_zRgic",
        "outputId": "38435954-e6cb-4048-f51b-7f6f7f33fe35"
      },
      "source": [
        "day_new=np.arange(1,101)\n",
        "day_pred=np.arange(101,131)\n",
        "\n",
        "import matplotlib.pyplot as plt\n",
        "\n",
        "plt.plot(day_new,scaler.inverse_transform(df1[1158:]))\n",
        "plt.plot(day_pred,scaler.inverse_transform(lst_output))\n",
        "\n"
      ],
      "execution_count": 35,
      "outputs": [
        {
          "output_type": "execute_result",
          "data": {
            "text/plain": [
              "[<matplotlib.lines.Line2D at 0x7fbe22384110>]"
            ]
          },
          "metadata": {
            "tags": []
          },
          "execution_count": 35
        },
        {
          "output_type": "display_data",
          "data": {
            "image/png": "[encoded data removed]",
            "text/plain": [
              "<Figure size 432x288 with 1 Axes>"
            ]
          },
          "metadata": {
            "tags": [],
            "needs_background": "light"
          }
        }
      ]
    },
    {
      "cell_type": "code",
      "metadata": {
        "colab": {
          "base_uri": "https://localhost:8080/",
          "height": 285
        },
        "id": "v6zuYrQiRsjR",
        "outputId": "da94057f-5590-4bb9-ead3-d57aca72b121"
      },
      "source": [
        "\n",
        "df3=df1.tolist()\n",
        "df3.extend(lst_output)\n",
        "plt.plot(df3[1200:])"
      ],
      "execution_count": 36,
      "outputs": [
        {
          "output_type": "execute_result",
          "data": {
            "text/plain": [
              "[<matplotlib.lines.Line2D at 0x7fbe22387ed0>]"
            ]
          },
          "metadata": {
            "tags": []
          },
          "execution_count": 36
        },
        {
          "output_type": "display_data",
          "data": {
            "image/png": "[encoded data removed]",
            "text/plain": [
              "<Figure size 432x288 with 1 Axes>"
            ]
          },
          "metadata": {
            "tags": [],
            "needs_background": "light"
          }
        }
      ]
    },
    {
      "cell_type": "code",
      "metadata": {
        "id": "cJQ2lHtHRt2_"
      },
      "source": [
        "\n",
        "df3=scaler.inverse_transform(df3).tolist()"
      ],
      "execution_count": 37,
      "outputs": []
    },
    {
      "cell_type": "code",
      "metadata": {
        "colab": {
          "base_uri": "https://localhost:8080/",
          "height": 283
        },
        "id": "3SVlyKJ6Rwto",
        "outputId": "7ab47c37-7c14-491f-8f01-5c8f66bff335"
      },
      "source": [
        "plt.plot(df3)"
      ],
      "execution_count": 38,
      "outputs": [
        {
          "output_type": "execute_result",
          "data": {
            "text/plain": [
              "[<matplotlib.lines.Line2D at 0x7fbe223d7590>]"
            ]
          },
          "metadata": {
            "tags": []
          },
          "execution_count": 38
        },
        {
          "output_type": "display_data",
          "data": {
            "image/png": "[encoded data removed]",
            "text/plain": [
              "<Figure size 432x288 with 1 Axes>"
            ]
          },
          "metadata": {
            "tags": [],
            "needs_background": "light"
          }
        }
      ]
    },
    {
      "cell_type": "code",
      "metadata": {
        "id": "IC4L4kxxRy7U"
      },
      "source": [
        ""
      ],
      "execution_count": null,
      "outputs": []
    }
  ]
}